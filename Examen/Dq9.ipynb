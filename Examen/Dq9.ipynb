{
  "nbformat": 4,
  "nbformat_minor": 0,
  "metadata": {
    "colab": {
      "provenance": [],
      "authorship_tag": "ABX9TyM5Yag4Q3Rup7BrGHvXGN6P",
      "include_colab_link": true
    },
    "kernelspec": {
      "name": "python3",
      "display_name": "Python 3"
    },
    "language_info": {
      "name": "python"
    }
  },
  "cells": [
    {
      "cell_type": "markdown",
      "metadata": {
        "id": "view-in-github",
        "colab_type": "text"
      },
      "source": [
        "<a href=\"https://colab.research.google.com/github/alejo94gf/Examen/blob/main/Examen/Dq9.ipynb\" target=\"_parent\"><img src=\"https://colab.research.google.com/assets/colab-badge.svg\" alt=\"Open In Colab\"/></a>"
      ]
    },
    {
      "cell_type": "code",
      "execution_count": 1,
      "metadata": {
        "colab": {
          "base_uri": "https://localhost:8080/"
        },
        "id": "za01P90j3AbO",
        "outputId": "204ff74c-8a96-49d2-b83a-a03b5d578178"
      },
      "outputs": [
        {
          "output_type": "stream",
          "name": "stdout",
          "text": [
            "Name: Carter\n",
            "Found +1-617-495-1000\n"
          ]
        }
      ],
      "source": [
        "# Este código busca un número de teléfono asociado a un nombre en una lista de diccionarios.\n",
        "\n",
        "people = [\n",
        "    {\"name\": \"Carter\", \"number\": \"+1-617-495-1000\"},\n",
        "    {\"name\": \"David\", \"number\": \"+1-617-495-1000\"},\n",
        "    {\"name\": \"John\", \"number\": \"+1-949-468-2750\"}\n",
        "]\n",
        "# Pide al usuario que introduzca un nombre.\n",
        "name = input(\"Name: \")\n",
        "# Recorre cada diccionario (persona) en la lista 'people'.\n",
        "for person in people:\n",
        "    # Comprueba si el nombre del diccionario coincide con el nombre ingresado por el usuario.\n",
        "    if person[\"name\"] == name:\n",
        "        # Si coincide, guarda el número de teléfono.\n",
        "        number = person[\"number\"]\n",
        "        # Imprime el número de teléfono encontrado.\n",
        "        print(f\"Found {number}\")\n",
        "        # Sale del bucle for.\n",
        "        break\n",
        "# Si el bucle for termina sin encontrar una coincidencia (no se ejecuta el 'break'),\n",
        "# se ejecuta la instrucción 'else'.\n",
        "else:\n",
        "    # Imprime \"Not found\" si no encuentra el nombre en la lista.\n",
        "    print(\"Not found\")"
      ]
    }
  ]
}