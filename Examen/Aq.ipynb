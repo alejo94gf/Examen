{
  "nbformat": 4,
  "nbformat_minor": 0,
  "metadata": {
    "colab": {
      "provenance": [],
      "authorship_tag": "ABX9TyMMJKMHZYjrxFiKqmSO9ls8",
      "include_colab_link": true
    },
    "kernelspec": {
      "name": "python3",
      "display_name": "Python 3"
    },
    "language_info": {
      "name": "python"
    }
  },
  "cells": [
    {
      "cell_type": "markdown",
      "metadata": {
        "id": "view-in-github",
        "colab_type": "text"
      },
      "source": [
        "<a href=\"https://colab.research.google.com/github/alejo94gf/Examen/blob/main/Examen/Aq.ipynb\" target=\"_parent\"><img src=\"https://colab.research.google.com/assets/colab-badge.svg\" alt=\"Open In Colab\"/></a>"
      ]
    },
    {
      "cell_type": "code",
      "execution_count": 22,
      "metadata": {
        "colab": {
          "base_uri": "https://localhost:8080/"
        },
        "id": "6BDm2yvjw5m4",
        "outputId": "44bd3933-3eb3-47c3-a50e-a6a0bc1e2651"
      },
      "outputs": [
        {
          "output_type": "execute_result",
          "data": {
            "text/plain": [
              "[1, 2]"
            ]
          },
          "metadata": {},
          "execution_count": 22
        }
      ],
      "source": [
        "def listados(a):\n",
        "\n",
        "\n",
        "    nueva_lista = []  # Inicializamos una lista vacia para almacenar los dos primeros items.\n",
        "    for i in range(len(a)):  # Iteramos sobre los indices de la lista.\n",
        "        if i < 2:  # Condicion para obtener solo los dos primeros items.\n",
        "            nueva_lista.append(a[i])  # Agregamos el ítem a la nueva lista.\n",
        "    return nueva_lista  # Devolver\n",
        "\n",
        "listados([1,2,3,4,5])"
      ]
    },
    {
      "cell_type": "markdown",
      "source": [],
      "metadata": {
        "id": "u5ZMq5Dh1Hqa"
      }
    }
  ]
}