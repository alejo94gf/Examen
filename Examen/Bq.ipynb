{
  "nbformat": 4,
  "nbformat_minor": 0,
  "metadata": {
    "colab": {
      "provenance": [],
      "authorship_tag": "ABX9TyMp8Nr+UgrMN+LYO4+jbMVf",
      "include_colab_link": true
    },
    "kernelspec": {
      "name": "python3",
      "display_name": "Python 3"
    },
    "language_info": {
      "name": "python"
    }
  },
  "cells": [
    {
      "cell_type": "markdown",
      "metadata": {
        "id": "view-in-github",
        "colab_type": "text"
      },
      "source": [
        "<a href=\"https://colab.research.google.com/github/alejo94gf/Examen/blob/main/Examen/Bq.ipynb\" target=\"_parent\"><img src=\"https://colab.research.google.com/assets/colab-badge.svg\" alt=\"Open In Colab\"/></a>"
      ]
    },
    {
      "cell_type": "code",
      "execution_count": 4,
      "metadata": {
        "colab": {
          "base_uri": "https://localhost:8080/"
        },
        "id": "b0huiSnU6Y8h",
        "outputId": "a6fba7e7-1c41-45cc-d2b6-3e242a471060"
      },
      "outputs": [
        {
          "output_type": "execute_result",
          "data": {
            "text/plain": [
              "{'a': 1, 'b': 2}"
            ]
          },
          "metadata": {},
          "execution_count": 4
        }
      ],
      "source": [
        "\n",
        "lista = [10, 20, [1, 2, 3], {'a': 1, 'b': 2}, 50]  # Ejemplo de lista que contiene un diccionario\n",
        "\n",
        "# Para acceder al diccionario en la posición 3 de la lista usamos el indice 3\n",
        "midiccionario = lista[3]\n",
        "\n",
        "\n",
        "midiccionario                # Imprimir el diccionario para verificar\n",
        "\n",
        "\n",
        "\n"
      ]
    }
  ]
}